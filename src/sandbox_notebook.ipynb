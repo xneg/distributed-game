{
 "cells": [
  {
   "cell_type": "code",
   "execution_count": 1,
   "id": "bb7cb5ce",
   "metadata": {},
   "outputs": [],
   "source": [
    "%load_ext autoreload"
   ]
  },
  {
   "cell_type": "code",
   "execution_count": 2,
   "id": "607aa64c",
   "metadata": {},
   "outputs": [],
   "source": [
    "from dataclasses import dataclass\n",
    "from operator import attrgetter\n",
    "\n",
    "from engine.contracts import (\n",
    "    ClientReadRequest,\n",
    "    ClientWriteRequest,\n",
    "    ClientReadResponse,\n",
    "    ResponseType,\n",
    "    ClientWriteResponse,\n",
    ")\n",
    "from engine.node import Node\n",
    "from engine.web_server import WebServer\n",
    "\n",
    "\n",
    "@dataclass\n",
    "class ReadRequest:\n",
    "    pass\n",
    "\n",
    "\n",
    "@dataclass\n",
    "class GetVersionRequest:\n",
    "    pass\n",
    "\n",
    "\n",
    "@dataclass\n",
    "class ReadResponse:\n",
    "    value: int\n",
    "    version: int\n",
    "\n",
    "\n",
    "@dataclass\n",
    "class VersionResponse:\n",
    "    version: int\n",
    "    id: int\n",
    "\n",
    "\n",
    "@dataclass\n",
    "class WriteRequest:\n",
    "    value: int\n",
    "    version: int\n",
    "\n",
    "\n",
    "# noinspection PyTypeChecker\n",
    "class SingleClientVersionedMajority(Node):\n",
    "    @property\n",
    "    def write_quorum(self):\n",
    "        return len(self.other_nodes) // 2\n",
    "\n",
    "    @property\n",
    "    def read_quorum(self):\n",
    "        return len(self.other_nodes) // 2\n",
    "\n",
    "    @WebServer.endpoint(message_type=ClientReadRequest)\n",
    "    def process_read_request(self, request):\n",
    "        responses = yield from self.wait_for_responses(\n",
    "            request=ReadRequest(),\n",
    "            check_response=lambda x: isinstance(x, ReadResponse),\n",
    "            count=self.read_quorum,\n",
    "        )\n",
    "\n",
    "        value, version = self.get_value()\n",
    "        responses.append(ReadResponse(value=value, version=version))\n",
    "\n",
    "        result = max(responses, key=attrgetter(\"version\")).value\n",
    "        return ClientReadResponse(result=ResponseType.Success, value=result)\n",
    "\n",
    "    @WebServer.endpoint(message_type=ClientWriteRequest)\n",
    "    def process_write_request(self, request: ClientWriteRequest):\n",
    "        responses = yield from self.wait_for_responses(\n",
    "            request=GetVersionRequest(),\n",
    "            check_response=lambda x: isinstance(x, VersionResponse),\n",
    "            count=self.write_quorum,\n",
    "        )\n",
    "\n",
    "        version = max(responses, key=attrgetter(\"version\")).version\n",
    "        version = max(version, self.get_version()) + 1\n",
    "        self.storage[\"x\"] = (request.value, version)\n",
    "\n",
    "        yield from self.wait_for_responses(\n",
    "            request=WriteRequest(value=request.value, version=version),\n",
    "            check_response=lambda x: x == \"Ack\",\n",
    "            count=len(responses)\n",
    "        )\n",
    "\n",
    "        return ClientWriteResponse(result=ResponseType.Success)\n",
    "\n",
    "    @WebServer.endpoint(message_type=ReadRequest)\n",
    "    def read_request(self, _):\n",
    "        value, version = self.get_value()\n",
    "        return ReadResponse(value=value, version=version)\n",
    "\n",
    "    def get_value(self):\n",
    "        value, version = (\n",
    "            (self.storage[\"x\"][0], self.storage[\"x\"][1])\n",
    "            if \"x\" in self.storage\n",
    "            else (\"N\", 0)\n",
    "        )\n",
    "        return value, version\n",
    "\n",
    "    @WebServer.endpoint(message_type=GetVersionRequest)\n",
    "    def version_request(self, _):\n",
    "        version = self.get_version()\n",
    "        return VersionResponse(version=version, id=self.id)\n",
    "\n",
    "    def get_version(self):\n",
    "        version = self.storage[\"x\"][1] if \"x\" in self.storage else 0\n",
    "        return version\n",
    "\n",
    "    @WebServer.endpoint(message_type=WriteRequest)\n",
    "    def write_request(self, request: WriteRequest):\n",
    "        self.storage[\"x\"] = (request.value, request.version)\n",
    "        # TODO: without return \"Ack\" (or anything else) wait_all doesn't work\n",
    "        return \"Ack\""
   ]
  },
  {
   "cell_type": "code",
   "execution_count": 3,
   "id": "33f8a0d6",
   "metadata": {
    "pycharm": {
     "name": "#%%\n"
    }
   },
   "outputs": [
    {
     "data": {
      "application/vnd.jupyter.widget-view+json": {
       "model_id": "5ce37ee85e9f453c816132247b39d36b",
       "version_major": 2,
       "version_minor": 0
      },
      "text/plain": [
       "MultiCanvas(height=600, width=800)"
      ]
     },
     "metadata": {},
     "output_type": "display_data"
    },
    {
     "data": {
      "application/vnd.jupyter.widget-view+json": {
       "model_id": "ba68c988f8f94009939247aafef0ce2b",
       "version_major": 2,
       "version_minor": 0
      },
      "text/plain": [
       "Output()"
      ]
     },
     "metadata": {},
     "output_type": "display_data"
    },
    {
     "name": "stdout",
     "output_type": "stream",
     "text": [
      "client position 800 200 250 520\n",
      "client position 800 200 550 520\n",
      "finished!\n"
     ]
    }
   ],
   "source": [
    "%autoreload 2\n",
    "from viz.main import Runner\n",
    "from ipycanvas import MultiCanvas, MultiRoughCanvas\n",
    "import threading\n",
    "\n",
    "canvas = MultiCanvas(4, width=800, height=600)\n",
    "# canvas = MultiRoughCanvas(4, width=800, height=600)\n",
    "\n",
    "display(canvas)\n",
    "runner = Runner(clients_count=2, nodes_count=3, canvas=canvas, node_type=SingleClientVersionedMajority)\n",
    "display(runner.get_out)\n",
    "\n",
    "# runner.run()\n",
    "thread = threading.Thread(target=runner.run)\n",
    "thread.start()"
   ]
  },
  {
   "cell_type": "code",
   "execution_count": null,
   "id": "9bbec7f1",
   "metadata": {},
   "outputs": [],
   "source": [
    "from ipywidgets import Output\n",
    "from ipycanvas import RoughCanvas, MultiRoughCanvas\n",
    "\n",
    "out = Output()\n",
    "multiCanvas = MultiRoughCanvas(4, width=80, height=60)\n",
    "# canvas = RoughCanvas(width=80, height=60)\n",
    "canvas = multiCanvas[0]\n",
    "\n",
    "\n",
    "@out.capture()\n",
    "def on_keyboard_event(key, shift_key, ctrl_key, meta_key):\n",
    "    print(\"Keyboard event:\", key, shift_key, ctrl_key, meta_key)\n",
    "\n",
    "# canvas._canvases[-1].on_key_down(on_keyboard_event)\n",
    "canvas.on_key_down(on_keyboard_event)\n",
    "\n",
    "display(canvas)\n",
    "display(out)"
   ]
  },
  {
   "cell_type": "code",
   "execution_count": null,
   "id": "9c49c36a",
   "metadata": {},
   "outputs": [],
   "source": []
  }
 ],
 "metadata": {
  "jupytext": {
   "formats": "ipynb,py:percent"
  },
  "kernelspec": {
   "display_name": ".venv",
   "language": "python",
   "name": ".venv"
  },
  "language_info": {
   "codemirror_mode": {
    "name": "ipython",
    "version": 3
   },
   "file_extension": ".py",
   "mimetype": "text/x-python",
   "name": "python",
   "nbconvert_exporter": "python",
   "pygments_lexer": "ipython3",
   "version": "3.9.6"
  }
 },
 "nbformat": 4,
 "nbformat_minor": 5
}
