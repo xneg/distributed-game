{
 "cells": [
  {
   "cell_type": "code",
   "execution_count": null,
   "metadata": {
    "pycharm": {
     "is_executing": true,
     "name": "#%%\n"
    }
   },
   "outputs": [],
   "source": [
    "from viz.main import run\n",
    "run()"
   ]
  },
  {
   "cell_type": "code",
   "execution_count": 23,
   "metadata": {
    "pycharm": {
     "name": "#%%\n"
    }
   },
   "outputs": [
    {
     "data": {
      "application/vnd.jupyter.widget-view+json": {
       "model_id": "f92eb92d847a4747b5e88c9c3879ef12",
       "version_major": 2,
       "version_minor": 0
      },
      "text/plain": [
       "Canvas(height=1000, width=1000)"
      ]
     },
     "metadata": {},
     "output_type": "display_data"
    }
   ],
   "source": [
    "\n",
    "from IPython.core.display_functions import display\n",
    "from ipycanvas import Canvas, hold_canvas\n",
    "import math\n",
    "\n",
    "\n",
    "canvas = Canvas(width=1000, height=1000)\n",
    "\n",
    "display(canvas)\n",
    "\n",
    "with hold_canvas():\n",
    "    canvas.clear()\n",
    "    canvas.font = \"20px serif\"\n",
    "    canvas.translate(canvas.width // 2, canvas.height // 2)\n",
    "    r = 220\n",
    "    two_pi = math.pi * 2\n",
    "    count = 14\n",
    "    for i in range(0, count):\n",
    "        t = two_pi / count * i\n",
    "        x = r * math.cos(t - math.pi / 2);\n",
    "        y = r * math.sin(t - math.pi / 2);\n",
    "        canvas.fill_circle(x, y, 10)"
   ]
  },
  {
   "cell_type": "code",
   "execution_count": null,
   "metadata": {
    "pycharm": {
     "name": "#%%\n"
    }
   },
   "outputs": [],
   "source": [
    "from time import sleep\n",
    "\n",
    "from ipycanvas import Canvas, hold_canvas\n",
    "\n",
    "canvas = Canvas()\n",
    "\n",
    "display(canvas)\n",
    "\n",
    "# Number of steps in your animation\n",
    "steps_number = 200\n",
    "\n",
    "while True:\n",
    "    for i in range(steps_number):\n",
    "        with hold_canvas():\n",
    "            # Clear the old animation step\n",
    "        canvas.clear()\n",
    "        canvas.fill_rect(25 + i, 25, 100, 100)\n",
    "        \n",
    "\n",
    "    # Animation frequency ~50Hz = 1./50. seconds\n",
    "    sleep(0.02)\n",
    "\n"
   ]
  }
 ],
 "metadata": {
  "kernelspec": {
   "display_name": ".venv",
   "language": "python",
   "name": ".venv"
  },
  "language_info": {
   "codemirror_mode": {
    "name": "ipython",
    "version": 3
   },
   "file_extension": ".py",
   "mimetype": "text/x-python",
   "name": "python",
   "nbconvert_exporter": "python",
   "pygments_lexer": "ipython3",
   "version": "3.9.10"
  }
 },
 "nbformat": 4,
 "nbformat_minor": 1
}