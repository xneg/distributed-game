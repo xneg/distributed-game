{
 "cells": [
  {
   "cell_type": "code",
   "execution_count": null,
   "metadata": {
    "pycharm": {
     "is_executing": true,
     "name": "#%%\n"
    }
   },
   "outputs": [],
   "source": [
    "from viz.main import run\n",
    "run()"
   ]
  },
  {
   "cell_type": "code",
   "execution_count": 100,
   "metadata": {
    "pycharm": {
     "name": "#%%\n"
    }
   },
   "outputs": [
    {
     "data": {
      "application/vnd.jupyter.widget-view+json": {
       "model_id": "82b0b0a5e3d940a8b183d98f059540c5",
       "version_major": 2,
       "version_minor": 0
      },
      "text/plain": [
       "MultiCanvas(height=600, width=800)"
      ]
     },
     "metadata": {},
     "output_type": "display_data"
    }
   ],
   "source": [
    "from time import sleep\n",
    "from IPython.core.display_functions import display\n",
    "from ipycanvas import MultiCanvas, Canvas, hold_canvas\n",
    "import math\n",
    "import random\n",
    "\n",
    "\n",
    "\n",
    "canvas = MultiCanvas(3, width=800, height=600)\n",
    "background = canvas[0]\n",
    "nodes_layer = canvas[1]\n",
    "signals_layer = canvas[2]\n",
    "\n",
    "display(canvas)\n",
    "\n",
    "# canvas = Canvas(width=1000, height=600)\n",
    "\n",
    "background.fill_style = \"#CCB7AE\"\n",
    "background.fill_rect(0, 0, canvas.width, canvas.height * 4 // 3)\n",
    "background.fill_style = \"#706677\"\n",
    "background.fill_rect(0, canvas.height * 3 // 4, canvas.width, canvas.height // 2)\n",
    "background.fill_style = \"#A6808C\"\n",
    "background.fill_rect(0, canvas.height * 3 // 4 - 100, canvas.width, 100)\n",
    "\n",
    "clients_count = 4\n",
    "nodes_layer.fill_style = \"#565264\"\n",
    "\n",
    "# (WIDTH - N * width)/(N+1)\n",
    "gap = (canvas.width - clients_count * 100) // (clients_count + 1)\n",
    "for i in range(0, clients_count):\n",
    "    nodes_layer.fill_rect(gap + (100 + gap) * i, canvas.height * 5 // 6, 100, 40)\n",
    "\n",
    "nodes_count = 7\n",
    "nodes_positions = []\n",
    "\n",
    "nodes_layer.translate(canvas.width // 2, canvas.height // 4)\n",
    "r = 120\n",
    "for i in range(0, nodes_count):\n",
    "    t = math.pi * 2 / nodes_count * i\n",
    "    x = r * math.cos(t - math.pi / 2);\n",
    "    y = r * math.sin(t - math.pi / 2);\n",
    "    nodes_positions.append((x, y))\n",
    "    #  nodes_layer.fill_rect(x - 30, y, 60, 60)\n",
    "    nodes_layer.fill_circle(x, y + 30, 30)\n",
    "\n",
    "signals_layer.translate(canvas.width // 2, canvas.height // 4)\n",
    "\n",
    "while True:\n",
    "    random.choice(nodes_position)\n",
    "    with hold_canvas():\n",
    "        signals_layer.clear()\n",
    "    \n",
    "    sleep(0.02)\n"
   ]
  },
  {
   "cell_type": "code",
   "execution_count": null,
   "metadata": {
    "pycharm": {
     "name": "#%%\n"
    }
   },
   "outputs": [],
   "source": [
    "from time import sleep\n",
    "\n",
    "from ipycanvas import Canvas, hold_canvas\n",
    "\n",
    "canvas = Canvas()\n",
    "\n",
    "display(canvas)\n",
    "\n",
    "# Number of steps in your animation\n",
    "steps_number = 200\n",
    "\n",
    "while True:\n",
    "    for i in range(steps_number):\n",
    "        with hold_canvas():\n",
    "            # Clear the old animation step\n",
    "        canvas.clear()\n",
    "        canvas.fill_rect(25 + i, 25, 100, 100)\n",
    "        \n",
    "\n",
    "    # Animation frequency ~50Hz = 1./50. seconds\n",
    "    sleep(0.02)\n",
    "\n"
   ]
  }
 ],
 "metadata": {
  "kernelspec": {
   "display_name": ".venv",
   "language": "python",
   "name": ".venv"
  },
  "language_info": {
   "codemirror_mode": {
    "name": "ipython",
    "version": 3
   },
   "file_extension": ".py",
   "mimetype": "text/x-python",
   "name": "python",
   "nbconvert_exporter": "python",
   "pygments_lexer": "ipython3",
   "version": "3.9.6"
  }
 },
 "nbformat": 4,
 "nbformat_minor": 1
}