{
 "cells": [
  {
   "cell_type": "code",
   "execution_count": null,
   "metadata": {
    "pycharm": {
     "is_executing": true,
     "name": "#%%\n"
    }
   },
   "outputs": [],
   "source": [
    "from viz.main import run\n",
    "from ipycanvas import MultiCanvas\n",
    "\n",
    "canvas = MultiCanvas(4, width=800, height=600)\n",
    "display(canvas)\n",
    "run(canvas[0], canvas[1])"
   ]
  },
  {
   "cell_type": "code",
   "execution_count": null,
   "metadata": {
    "pycharm": {
     "name": "#%%\n",
     "is_executing": true
    }
   },
   "outputs": [],
   "source": [
    "from time import sleep\n",
    "from IPython.core.display_functions import display\n",
    "from ipycanvas import MultiCanvas, Canvas, hold_canvas\n",
    "import random\n",
    "from viz.utils import draw_background, draw_client, draw_node\n",
    "\n",
    "\n",
    "canvas = MultiCanvas(4, width=800, height=600)\n",
    "nodes_layer = canvas[1]\n",
    "signals_layer = canvas[2]\n",
    "\n",
    "display(canvas)\n",
    "\n",
    "draw_background(canvas[0])\n",
    "\n",
    "clients_count = 4\n",
    "\n",
    "for i in range(0, clients_count):\n",
    "    draw_client(nodes_layer, i, clients_count)\n",
    "\n",
    "    \n",
    "nodes_count = 7\n",
    "nodes_positions = []\n",
    "\n",
    "nodes_layer.translate(canvas.width // 2, canvas.height // 4)\n",
    "\n",
    "for i in range(0, nodes_count):\n",
    "    nodes_positions.append(draw_node(nodes_layer, i, nodes_count))\n",
    "\n",
    "finish = None\n",
    "while True:\n",
    "    \n",
    "    start = finish if finish else random.choice(nodes_positions)\n",
    "    finish = random.choice([n for n in nodes_positions if n != start])\n",
    "\n",
    "    interval = 50\n",
    "    for i in range(0, interval):\n",
    "        x = (finish[0] - start[0]) * i // interval + start[0]\n",
    "        y = (finish[1] - start[1]) * i // interval + start[1]\n",
    "        with hold_canvas(signals_layer):\n",
    "            signals_layer.reset_transform()\n",
    "            signals_layer.clear()\n",
    "            signals_layer.translate(canvas.width // 2, canvas.height // 4)\n",
    "            signals_layer.fill_circle(x, y, 10)\n",
    "        \n",
    "        sleep(0.02)\n"
   ]
  }
 ],
 "metadata": {
  "kernelspec": {
   "display_name": ".venv",
   "language": "python",
   "name": ".venv"
  },
  "language_info": {
   "codemirror_mode": {
    "name": "ipython",
    "version": 3
   },
   "file_extension": ".py",
   "mimetype": "text/x-python",
   "name": "python",
   "nbconvert_exporter": "python",
   "pygments_lexer": "ipython3",
   "version": "3.9.6"
  }
 },
 "nbformat": 4,
 "nbformat_minor": 1
}