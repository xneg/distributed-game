{
 "cells": [
  {
   "cell_type": "code",
   "execution_count": null,
   "metadata": {
    "pycharm": {
     "name": "#%%\n"
    }
   },
   "outputs": [],
   "source": [
    "from viz.main import run\n",
    "run()"
   ]
  },
  {
   "cell_type": "code",
   "execution_count": null,
   "metadata": {
    "pycharm": {
     "name": "#%%\n"
    }
   },
   "outputs": [],
   "source": [
    "from time import sleep\n",
    "\n",
    "from ipycanvas import Canvas, hold_canvas\n",
    "\n",
    "canvas = Canvas()\n",
    "\n",
    "display(canvas)\n",
    "\n",
    "# Number of steps in your animation\n",
    "steps_number = 200\n",
    "\n",
    "while True:\n",
    "    for i in range(steps_number):\n",
    "        with hold_canvas():\n",
    "            # Clear the old animation step\n",
    "        canvas.clear()\n",
    "        canvas.fill_rect(25 + i, 25, 100, 100)\n",
    "        \n",
    "\n",
    "    # Animation frequency ~50Hz = 1./50. seconds\n",
    "    sleep(0.02)\n",
    "\n"
   ]
  }
 ],
 "metadata": {
  "kernelspec": {
   "display_name": ".venv",
   "language": "python",
   "name": ".venv"
  },
  "language_info": {
   "codemirror_mode": {
    "name": "ipython",
    "version": 3
   },
   "file_extension": ".py",
   "mimetype": "text/x-python",
   "name": "python",
   "nbconvert_exporter": "python",
   "pygments_lexer": "ipython3",
   "version": "3.9.10"
  }
 },
 "nbformat": 4,
 "nbformat_minor": 1
}